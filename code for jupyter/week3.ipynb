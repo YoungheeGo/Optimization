{
 "cells": [
  {
   "cell_type": "markdown",
   "metadata": {},
   "source": [
    "# 선형근사\n",
    "- f(x)=x**2\n",
    "- f(x+dx)=f(x)+f'(x)*dx  \n",
    "dx는 델타 x 의미한다"
   ]
  },
  {
   "cell_type": "code",
   "execution_count": 1,
   "metadata": {},
   "outputs": [
    {
     "name": "stdout",
     "output_type": "stream",
     "text": [
      "(1, 0.998)\n"
     ]
    }
   ],
   "source": [
    "x=-1\n",
    "dx=0.001\n",
    "\n",
    "f=x**2\n",
    "df=2*x #1차 미분한 도함수\n",
    "\n",
    "f_dx=f+df*dx\n",
    "\n",
    "\n",
    "print((f,f_dx))\n",
    "# 참값은 1, 0.998 근사값\n",
    "# dx 작아질 수록 참값에 가까워짐"
   ]
  },
  {
   "cell_type": "code",
   "execution_count": 2,
   "metadata": {},
   "outputs": [
    {
     "name": "stdout",
     "output_type": "stream",
     "text": [
      "(1, 0.998)\n",
      "(1, 0.9998)\n",
      "(1, 0.99998)\n",
      "(1, 0.99999998)\n"
     ]
    }
   ],
   "source": [
    "for dx in [1E-3,1E-4,1E-5,1E-8]:\n",
    "    f_dx=f+df*dx\n",
    "    print((f,f_dx))\n",
    "    \n",
    "# 수치미분의 기본이 되는 아이디어!!"
   ]
  },
  {
   "cell_type": "code",
   "execution_count": 3,
   "metadata": {},
   "outputs": [
    {
     "data": {
      "text/plain": [
       "1"
      ]
     },
     "execution_count": 3,
     "metadata": {},
     "output_type": "execute_result"
    }
   ],
   "source": [
    "def f(x):\n",
    "    return x**2\n",
    "\n",
    "f(-1)"
   ]
  },
  {
   "cell_type": "code",
   "execution_count": 4,
   "metadata": {},
   "outputs": [
    {
     "data": {
      "text/plain": [
       "-2"
      ]
     },
     "execution_count": 4,
     "metadata": {},
     "output_type": "execute_result"
    }
   ],
   "source": [
    "def df(x):\n",
    "    return 2*x\n",
    "\n",
    "df(-1)\n",
    "# 1차 미분한 -1의 x값에서의 도함수, 기울기는 -2\n",
    "# x값의 위치가 -1일때 x**2함수의 탄젠트라인의 기울기가 -2라는 것 의미"
   ]
  },
  {
   "cell_type": "code",
   "execution_count": 5,
   "metadata": {},
   "outputs": [],
   "source": [
    "def f_dx(x,dx):\n",
    "    return f(x)+df(x)*dx"
   ]
  },
  {
   "cell_type": "code",
   "execution_count": 6,
   "metadata": {},
   "outputs": [
    {
     "name": "stdout",
     "output_type": "stream",
     "text": [
      "1.0000, 0.9980 (0.0020)\n",
      "1.0000, 0.9998 (0.0002)\n",
      "1.0000, 1.0000 (0.0000)\n",
      "1.0000, 1.0000 (0.0000)\n"
     ]
    }
   ],
   "source": [
    "for dx in [1E-3,1E-4,1E-5,1E-6]:\n",
    "    print('%.4f, %.4f (%.4f)' %(f(-1),f_dx(-1,dx),abs(f(-1)-f_dx(-1,dx))))\n",
    "    # 문자열 포맷 지정 : %.4f 는 소수점 4자리수 까지 나타내기\n",
    "    \n",
    "    # 참값에 가까운 값으로 수렴된다!\n",
    "    # 1E-6정도 보통으로 사용한다."
   ]
  },
  {
   "cell_type": "code",
   "execution_count": null,
   "metadata": {},
   "outputs": [],
   "source": []
  },
  {
   "cell_type": "markdown",
   "metadata": {},
   "source": [
    "# 수치미분\n",
    "- 전방차분\n",
    "- 후방차분\n",
    "- 중심차분"
   ]
  },
  {
   "cell_type": "code",
   "execution_count": 7,
   "metadata": {},
   "outputs": [
    {
     "data": {
      "text/plain": [
       "-1.999999000079633"
      ]
     },
     "execution_count": 7,
     "metadata": {},
     "output_type": "execute_result"
    }
   ],
   "source": [
    "# 전방차분\n",
    "def forward_diff(f,x,h=1E-6):\n",
    "    df_=(f(x+h)-f(x))/h\n",
    "    return df_\n",
    "\n",
    "forward_diff(f,-1) \n",
    "# f라는 함수를 -1에서의 전방차분을 이용해 수치 미분 값을 얻는다.\n",
    "# -2에 근사하는 값--> 참값에 근사하는 도함수의 값!"
   ]
  },
  {
   "cell_type": "code",
   "execution_count": 8,
   "metadata": {},
   "outputs": [
    {
     "data": {
      "text/plain": [
       "-2.0000009999243673"
      ]
     },
     "execution_count": 8,
     "metadata": {},
     "output_type": "execute_result"
    }
   ],
   "source": [
    "# 후방차분\n",
    "def backward_diff(f,x,h=1E-6):\n",
    "    df_=(f(x)-f(x-h))/h\n",
    "    return df_\n",
    "\n",
    "backward_diff(f,-1)\n",
    "# -2에 가까운 값이지만 전방차분과 다르게 -2보다 작은 값"
   ]
  },
  {
   "cell_type": "code",
   "execution_count": 9,
   "metadata": {},
   "outputs": [
    {
     "data": {
      "text/plain": [
       "-2.0000000000575113"
      ]
     },
     "execution_count": 9,
     "metadata": {},
     "output_type": "execute_result"
    }
   ],
   "source": [
    "# 중심차분\n",
    "def central_diff(f,x,h=1E-6):\n",
    "    df_=(f(x+0.5*h)-f(x-0.5*h))/h\n",
    "    return df_\n",
    "\n",
    "central_diff(f,-1)\n",
    "# 전방차분과 후방차분보다 오차가 훨씬 더 적어짐\n",
    "# 수치미분을 직접 구현할 때 중심차분이 가장 널리 이용됨"
   ]
  },
  {
   "cell_type": "code",
   "execution_count": 10,
   "metadata": {},
   "outputs": [
    {
     "name": "stdout",
     "output_type": "stream",
     "text": [
      "df: -2.00000000, cf: -2.00000000 (0.00000000)\n",
      "df: -2.00000000, cf: -2.00000000 (0.00000000)\n",
      "df: -2.00000000, cf: -1.99999999 (0.00000001)\n"
     ]
    }
   ],
   "source": [
    "# h를 더 적은 값으로 하면....??\n",
    "\n",
    "for h in [1E-4,1E-6,1E-8]:\n",
    "    cf=central_diff(f,-1,h)\n",
    "    print('df: %.8f, cf: %.8f (%.8f)'%(df(-1), cf, abs(df(-1) - cf)))\n",
    "    # 포매팅: 소수점 8째 자리까지 찍어줘\n",
    "    # 각 step size(h)마다 실제 도함수의 참값, 중심 차분 한 값  , 오차\n",
    "    # 1E-8에서 오차가 증가. why?컴은 나누기 시러해. 수치미분은 컴이 시러하는 나누기 가지고 있음\n",
    "    # 아주 작은 값을 나눠주면 컴이 가지고 있는 계산 정확도가 떨어지는 문제 발생\n",
    "    \n",
    "    \n",
    "    ## 따라서 stepsize가 무조건 작다고 좋은 것 아님\n",
    "    # 1E-6이 가장 많이 사용됨."
   ]
  },
  {
   "cell_type": "markdown",
   "metadata": {},
   "source": [
    "- 수치미분 이용한 계산 결과\n",
    "- 최적화 문제는 최적점(최소값) 찾는 거 \n",
    "- 최소값은 도함수의 기울기가 0일때\n",
    "- 그러면 중심차분 이용해 x값을 변할때, 수치미분한 도함수 값(cf)이 0에 가까워지면 최적점!\n",
    "  \n",
    "  \n",
    "- 도함수 정리가 과연 계산적으로도 성립할까??"
   ]
  },
  {
   "cell_type": "code",
   "execution_count": 11,
   "metadata": {},
   "outputs": [
    {
     "name": "stdout",
     "output_type": "stream",
     "text": [
      "df: -2.00000000, cf: -2.00000000 (0.00000000)\n",
      "df: -1.00000000, cf: -1.00000000 (0.00000000)\n",
      "df: -0.50000000, cf: -0.50000000 (0.00000000)\n",
      "df: -0.02000000, cf: -0.02000000 (0.00000000)\n",
      "df: -0.00000200, cf: -0.00000200 (0.00000000)\n"
     ]
    }
   ],
   "source": [
    "# x변화에 따른 도함수 변화\n",
    "# x**2은 0에서 최적점 갖기 때문에 0에 가깝게!\n",
    "\n",
    "for x in [-1E0,-5E-1,-2.5E-1,-1E-2,-1E-6]: #-1,-0.5,-0.25,-0.01 -0.000001\n",
    "    cf=central_diff(f,x)\n",
    "    print('df: %.8f, cf: %.8f (%.8f)' %(df(x), cf, abs(df(x)-cf)))\n",
    "    \n",
    "    # 중심차분에 의한 도함수 값이 0에 가까워짐\n",
    "    # 그 때 도함수의 기울기와 차이 없음.\n",
    "    # x가 0에 가까워질 수록 도함수의 값이 0에 가까워짐 \n",
    "    # 기울기가 0이 되면 그 점이 최적점"
   ]
  },
  {
   "cell_type": "code",
   "execution_count": null,
   "metadata": {},
   "outputs": [],
   "source": []
  },
  {
   "cell_type": "markdown",
   "metadata": {},
   "source": [
    "# 구간 탐색 알고리즘\n",
    "- Algorithm 3.1 : p.36"
   ]
  },
  {
   "cell_type": "code",
   "execution_count": 12,
   "metadata": {},
   "outputs": [
    {
     "data": {
      "text/plain": [
       "(3, 4)"
      ]
     },
     "execution_count": 12,
     "metadata": {},
     "output_type": "execute_result"
    }
   ],
   "source": [
    "# 구간의 상한 하한 설정하는 파이썬 알고리즘 1\n",
    "a,c =4,3\n",
    "(a,c) if a<c else (c,a) #스와핑"
   ]
  },
  {
   "cell_type": "code",
   "execution_count": 13,
   "metadata": {},
   "outputs": [
    {
     "data": {
      "text/plain": [
       "(3, 4)"
      ]
     },
     "execution_count": 13,
     "metadata": {},
     "output_type": "execute_result"
    }
   ],
   "source": [
    "# 구간의 상한 하한 설정하는 파이썬 알고리즘 1\n",
    "a,c=3,4\n",
    "(a,c) if a<c else (c,a)"
   ]
  },
  {
   "cell_type": "code",
   "execution_count": 14,
   "metadata": {},
   "outputs": [
    {
     "name": "stdout",
     "output_type": "stream",
     "text": [
      "init: (a:-1.0000, b:-0.9900) (ya:1.0000, yb:0.9801)\n",
      "step: (a: -1.0000, b:-0.9900, c:-0.9800) (ya:1.0000, yb:0.9801, yc:0.9604)\n",
      "step: (a: -0.9900, b:-0.9800, c:-0.9600) (ya:0.9801, yb:0.9604, yc:0.9216)\n",
      "step: (a: -0.9800, b:-0.9600, c:-0.9200) (ya:0.9604, yb:0.9216, yc:0.8464)\n",
      "step: (a: -0.9600, b:-0.9200, c:-0.8400) (ya:0.9216, yb:0.8464, yc:0.7056)\n",
      "step: (a: -0.9200, b:-0.8400, c:-0.6800) (ya:0.8464, yb:0.7056, yc:0.4624)\n",
      "step: (a: -0.8400, b:-0.6800, c:-0.3600) (ya:0.7056, yb:0.4624, yc:0.1296)\n",
      "step: (a: -0.6800, b:-0.3600, c:0.2800) (ya:0.4624, yb:0.1296, yc:0.0784)\n",
      "step: (a: -0.3600, b:0.2800, c:1.5600) (ya:0.1296, yb:0.0784, yc:2.4336)\n"
     ]
    },
    {
     "data": {
      "text/plain": [
       "(-0.35999999999999993, 1.56)"
      ]
     },
     "execution_count": 14,
     "metadata": {},
     "output_type": "execute_result"
    }
   ],
   "source": [
    "# 초기 구간 결정\n",
    "def bracket_minimum(f,x,s=1E-2,k=2.0): \n",
    "    a,ya=x,f(x)\n",
    "    b,yb=a+s,f(a+s)\n",
    "    \n",
    "    print('init: (a:%.4f, b:%.4f) (ya:%.4f, yb:%.4f)' %(a,b,ya,yb))\n",
    "    \n",
    "    if yb>ya:\n",
    "        a,b=b,a #스와핑\n",
    "        ya,yb=yb,ya\n",
    "        s=-s #b 값 줄여나감\n",
    "    \n",
    "    while True:\n",
    "        c,yc=b+s, f(b+s)\n",
    "        print('step: (a: %.4f, b:%.4f, c:%.4f) (ya:%.4f, yb:%.4f, yc:%.4f)' %(a,b,c,ya,yb,yc))\n",
    "        \n",
    "        if yc>yb:\n",
    "            return (a,c) if a<c else (c,a) #구간의 하한 상한 결정\n",
    "            # while 루프 빠져나옴\n",
    "        else:\n",
    "            a,ya,b,yb=b,yb,c,yc\n",
    "            s*=k #더 넓은 구간으로 이동\n",
    "        \n",
    "bracket_minimum(f,-1)\n",
    "# 마지막의 a,b,c로 이루어진 구간 사이에 최적점 존재한다는 것 파악 가능"
   ]
  },
  {
   "cell_type": "code",
   "execution_count": 15,
   "metadata": {},
   "outputs": [
    {
     "name": "stdout",
     "output_type": "stream",
     "text": [
      "init: (a:1.0000, b:1.0100) (ya:1.0000, yb:1.0201)\n",
      "step: (a: 1.0100, b:1.0000, c:0.9900) (ya:1.0201, yb:1.0000, yc:0.9801)\n",
      "step: (a: 1.0000, b:0.9900, c:0.9700) (ya:1.0000, yb:0.9801, yc:0.9409)\n",
      "step: (a: 0.9900, b:0.9700, c:0.9300) (ya:0.9801, yb:0.9409, yc:0.8649)\n",
      "step: (a: 0.9700, b:0.9300, c:0.8500) (ya:0.9409, yb:0.8649, yc:0.7225)\n",
      "step: (a: 0.9300, b:0.8500, c:0.6900) (ya:0.8649, yb:0.7225, yc:0.4761)\n",
      "step: (a: 0.8500, b:0.6900, c:0.3700) (ya:0.7225, yb:0.4761, yc:0.1369)\n",
      "step: (a: 0.6900, b:0.3700, c:-0.2700) (ya:0.4761, yb:0.1369, yc:0.0729)\n",
      "step: (a: 0.3700, b:-0.2700, c:-1.5500) (ya:0.1369, yb:0.0729, yc:2.4025)\n"
     ]
    },
    {
     "data": {
      "text/plain": [
       "(-1.55, 0.36999999999999994)"
      ]
     },
     "execution_count": 15,
     "metadata": {},
     "output_type": "execute_result"
    }
   ],
   "source": [
    "bracket_minimum(f,1)\n",
    "# 위 셀과는 다르게 왼쪽으로 이동하며 최적점이 포함된 구간 결정\n",
    "# 최소값은 0 (참값)\n",
    "# 비교적 넓은 범위!! : 점 3개로 구간 정함 -> 2개의 구간 (a와 b, b와 c)"
   ]
  },
  {
   "cell_type": "code",
   "execution_count": null,
   "metadata": {},
   "outputs": [],
   "source": []
  },
  {
   "cell_type": "markdown",
   "metadata": {},
   "source": [
    "# 삼분할 탐색법\n",
    "- 최적점 구하기"
   ]
  },
  {
   "cell_type": "code",
   "execution_count": 16,
   "metadata": {},
   "outputs": [
    {
     "name": "stdout",
     "output_type": "stream",
     "text": [
      "init: (a:-1.0000, b:-0.9900) (ya:1.0000, yb:0.9801)\n",
      "step: (a: -1.0000, b:-0.9900, c:-0.9800) (ya:1.0000, yb:0.9801, yc:0.9604)\n",
      "step: (a: -0.9900, b:-0.9800, c:-0.9600) (ya:0.9801, yb:0.9604, yc:0.9216)\n",
      "step: (a: -0.9800, b:-0.9600, c:-0.9200) (ya:0.9604, yb:0.9216, yc:0.8464)\n",
      "step: (a: -0.9600, b:-0.9200, c:-0.8400) (ya:0.9216, yb:0.8464, yc:0.7056)\n",
      "step: (a: -0.9200, b:-0.8400, c:-0.6800) (ya:0.8464, yb:0.7056, yc:0.4624)\n",
      "step: (a: -0.8400, b:-0.6800, c:-0.3600) (ya:0.7056, yb:0.4624, yc:0.1296)\n",
      "step: (a: -0.6800, b:-0.3600, c:0.2800) (ya:0.4624, yb:0.1296, yc:0.0784)\n",
      "step: (a: -0.3600, b:0.2800, c:1.5600) (ya:0.1296, yb:0.0784, yc:2.4336)\n",
      "init: (a:-0.3600, b:1.5600)\n",
      "1: (a:-0.3600, b:0.9200)\n",
      "2: (a:-0.3600, b:0.4933)\n",
      "3: (a:-0.3600, b:0.2089)\n",
      "4: (a:-0.1704, b:0.2089)\n",
      "5: (a:-0.1704, b:0.0825)\n",
      "6: (a:-0.0861, b:0.0825)\n",
      "7: (a:-0.0299, b:0.0825)\n",
      "8: (a:-0.0299, b:0.0450)\n",
      "9: (a:-0.0299, b:0.0200)\n",
      "10: (a:-0.0133, b:0.0200)\n",
      "11: (a:-0.0133, b:0.0089)\n",
      "12: (a:-0.0059, b:0.0089)\n",
      "13: (a:-0.0059, b:0.0040)\n",
      "14: (a:-0.0026, b:0.0040)\n",
      "15: (a:-0.0026, b:0.0018)\n",
      "16: (a:-0.0011, b:0.0018)\n",
      "17: (a:-0.0011, b:0.0008)\n",
      "18: (a:-0.0005, b:0.0008)\n",
      "19: (a:-0.0005, b:0.0004)\n",
      "20: (a:-0.0002, b:0.0004)\n",
      "21: (a:-0.0002, b:0.0002)\n",
      "22: (a:-0.0002, b:0.0001)\n",
      "23: (a:-0.0001, b:0.0001)\n",
      "24: (a:-0.0001, b:0.0000)\n",
      "25: (a:-0.0000, b:0.0000)\n",
      "26: (a:-0.0000, b:0.0000)\n",
      "27: (a:-0.0000, b:0.0000)\n",
      "28: (a:-0.0000, b:0.0000)\n",
      "29: (a:-0.0000, b:0.0000)\n",
      "30: (a:-0.0000, b:0.0000)\n",
      "31: (a:-0.0000, b:0.0000)\n",
      "32: (a:-0.0000, b:0.0000)\n",
      "33: (a:-0.0000, b:0.0000)\n",
      "34: (a:-0.0000, b:0.0000)\n",
      "35: (a:-0.0000, b:0.0000)\n",
      "36: (a:-0.0000, b:0.0000)\n"
     ]
    },
    {
     "data": {
      "text/plain": [
       "(4.39527352433488e-07, 1.9318429353719158e-13)"
      ]
     },
     "execution_count": 16,
     "metadata": {},
     "output_type": "execute_result"
    }
   ],
   "source": [
    "# bracketing by three fold\n",
    "\n",
    "def trifold_search(f,x,epsilon=1E-6): #epsilon은 적절한 구간 폭\n",
    "    a,b =bracket_minimum(f,x)\n",
    "    print('init: (a:%.4f, b:%.4f)' %(a,b))\n",
    "    \n",
    "    distance=abs(a-b)\n",
    "    \n",
    "    i=1\n",
    "    while distance > epsilon:\n",
    "        x1=a+(1.0/3.0)*distance #다른 방법으로도 계산 가능!\n",
    "        x2=a+(2.0/3.0)*distance\n",
    "        \n",
    "        y1,y2 =f(x1),f(x2)\n",
    "        \n",
    "        if y1>y2:\n",
    "            a,b=x1,b # 구간 폭 1/3만큼 버림\n",
    "        else:\n",
    "            a,b =a,x2\n",
    "\n",
    "            \n",
    "        distance =abs(a-b)\n",
    "        \n",
    "        print('%d: (a:%.4f, b:%.4f)' %(i,a,b))\n",
    "        \n",
    "        i+=1\n",
    "        # whiile loop 끝나면 a,b의 구간의 폭은 epsilon보다 작을 것\n",
    "   \n",
    "    x=0.5*abs(a-b) #가운데 값을 중앙값 계산하듯이 최적점의 근사값이라고 하자\n",
    "    y=f(x) #목적함수의 최소값\n",
    "    \n",
    "    return x,y\n",
    "\n",
    "\n",
    "trifold_search(f,-1)\n",
    "# 엄청 적은 값이 나오네!! 0에 가까워~!! 최적점과 목적함수 값 모두 0!"
   ]
  },
  {
   "cell_type": "code",
   "execution_count": 17,
   "metadata": {},
   "outputs": [
    {
     "name": "stdout",
     "output_type": "stream",
     "text": [
      "init: (a:1.0000, b:1.0100) (ya:1.0000, yb:1.0201)\n",
      "step: (a: 1.0100, b:1.0000, c:0.9900) (ya:1.0201, yb:1.0000, yc:0.9801)\n",
      "step: (a: 1.0000, b:0.9900, c:0.9700) (ya:1.0000, yb:0.9801, yc:0.9409)\n",
      "step: (a: 0.9900, b:0.9700, c:0.9300) (ya:0.9801, yb:0.9409, yc:0.8649)\n",
      "step: (a: 0.9700, b:0.9300, c:0.8500) (ya:0.9409, yb:0.8649, yc:0.7225)\n",
      "step: (a: 0.9300, b:0.8500, c:0.6900) (ya:0.8649, yb:0.7225, yc:0.4761)\n",
      "step: (a: 0.8500, b:0.6900, c:0.3700) (ya:0.7225, yb:0.4761, yc:0.1369)\n",
      "step: (a: 0.6900, b:0.3700, c:-0.2700) (ya:0.4761, yb:0.1369, yc:0.0729)\n",
      "step: (a: 0.3700, b:-0.2700, c:-1.5500) (ya:0.1369, yb:0.0729, yc:2.4025)\n",
      "init: (a:-1.5500, b:0.3700)\n",
      "1: (a:-0.9100, b:0.3700)\n",
      "2: (a:-0.4833, b:0.3700)\n",
      "3: (a:-0.1989, b:0.3700)\n",
      "4: (a:-0.1989, b:0.1804)\n",
      "5: (a:-0.0725, b:0.1804)\n",
      "6: (a:-0.0725, b:0.0961)\n",
      "7: (a:-0.0725, b:0.0399)\n",
      "8: (a:-0.0350, b:0.0399)\n",
      "9: (a:-0.0350, b:0.0149)\n",
      "10: (a:-0.0184, b:0.0149)\n",
      "11: (a:-0.0073, b:0.0149)\n",
      "12: (a:-0.0073, b:0.0075)\n",
      "13: (a:-0.0073, b:0.0026)\n",
      "14: (a:-0.0040, b:0.0026)\n",
      "15: (a:-0.0018, b:0.0026)\n",
      "16: (a:-0.0018, b:0.0011)\n",
      "17: (a:-0.0008, b:0.0011)\n",
      "18: (a:-0.0008, b:0.0005)\n",
      "19: (a:-0.0004, b:0.0005)\n",
      "20: (a:-0.0004, b:0.0002)\n",
      "21: (a:-0.0002, b:0.0002)\n",
      "22: (a:-0.0002, b:0.0001)\n",
      "23: (a:-0.0001, b:0.0001)\n",
      "24: (a:-0.0000, b:0.0001)\n",
      "25: (a:-0.0000, b:0.0000)\n",
      "26: (a:-0.0000, b:0.0000)\n",
      "27: (a:-0.0000, b:0.0000)\n",
      "28: (a:-0.0000, b:0.0000)\n",
      "29: (a:-0.0000, b:0.0000)\n",
      "30: (a:-0.0000, b:0.0000)\n",
      "31: (a:-0.0000, b:0.0000)\n",
      "32: (a:-0.0000, b:0.0000)\n",
      "33: (a:-0.0000, b:0.0000)\n",
      "34: (a:-0.0000, b:0.0000)\n",
      "35: (a:-0.0000, b:0.0000)\n",
      "36: (a:-0.0000, b:0.0000)\n"
     ]
    },
    {
     "data": {
      "text/plain": [
       "(4.395273524334884e-07, 1.931842935371919e-13)"
      ]
     },
     "execution_count": 17,
     "metadata": {},
     "output_type": "execute_result"
    }
   ],
   "source": [
    "trifold_search(f,1)"
   ]
  },
  {
   "cell_type": "markdown",
   "metadata": {},
   "source": [
    "# 피보나치 탐색법\n",
    "- 구간을 더 빨리 줄이고 싶어. 계산은 복잡해짐\n",
    "- 생각해낸 것은 황금비율!! --> 피보나치 수열\n"
   ]
  },
  {
   "cell_type": "code",
   "execution_count": 18,
   "metadata": {},
   "outputs": [
    {
     "name": "stdout",
     "output_type": "stream",
     "text": [
      "init: (a:-1.0000, b:-0.9900) (ya:1.0000, yb:0.9801)\n",
      "step: (a: -1.0000, b:-0.9900, c:-0.9800) (ya:1.0000, yb:0.9801, yc:0.9604)\n",
      "step: (a: -0.9900, b:-0.9800, c:-0.9600) (ya:0.9801, yb:0.9604, yc:0.9216)\n",
      "step: (a: -0.9800, b:-0.9600, c:-0.9200) (ya:0.9604, yb:0.9216, yc:0.8464)\n",
      "step: (a: -0.9600, b:-0.9200, c:-0.8400) (ya:0.9216, yb:0.8464, yc:0.7056)\n",
      "step: (a: -0.9200, b:-0.8400, c:-0.6800) (ya:0.8464, yb:0.7056, yc:0.4624)\n",
      "step: (a: -0.8400, b:-0.6800, c:-0.3600) (ya:0.7056, yb:0.4624, yc:0.1296)\n",
      "step: (a: -0.6800, b:-0.3600, c:0.2800) (ya:0.4624, yb:0.1296, yc:0.0784)\n",
      "step: (a: -0.3600, b:0.2800, c:1.5600) (ya:0.1296, yb:0.0784, yc:2.4336)\n",
      "init: (a:-0.3600, B:1.5600)\n",
      "1:(a:-0.3600, b:0.8266)\n",
      "2:(a:-0.1869, b:0.8266)\n",
      "3:(a:-0.1869, b:0.5465)\n",
      "4:(a:-0.1869, b:0.0933)\n",
      "5:(a:-0.1460, b:0.0933)\n",
      "6:(a:-0.0799, b:0.0933)\n",
      "7:(a:-0.0799, b:0.0680)\n",
      "8:(a:-0.0390, b:0.0680)\n",
      "9:(a:-0.0390, b:0.0524)\n",
      "10:(a:-0.0390, b:0.0271)\n",
      "11:(a:-0.0294, b:0.0271)\n",
      "12:(a:-0.0137, b:0.0271)\n",
      "13:(a:-0.0137, b:0.0212)\n",
      "14:(a:-0.0137, b:0.0115)\n",
      "15:(a:-0.0101, b:0.0115)\n",
      "16:(a:-0.0101, b:0.0055)\n",
      "17:(a:-0.0078, b:0.0055)\n",
      "18:(a:-0.0041, b:0.0055)\n",
      "19:(a:-0.0041, b:0.0041)\n",
      "20:(a:-0.0041, b:0.0019)\n",
      "21:(a:-0.0032, b:0.0019)\n",
      "22:(a:-0.0018, b:0.0019)\n",
      "23:(a:-0.0018, b:0.0013)\n",
      "24:(a:-0.0009, b:0.0013)\n",
      "25:(a:-0.0009, b:0.0010)\n",
      "26:(a:-0.0009, b:0.0005)\n",
      "27:(a:-0.0008, b:0.0005)\n",
      "28:(a:-0.0004, b:0.0005)\n",
      "29:(a:-0.0004, b:0.0001)\n"
     ]
    },
    {
     "data": {
      "text/plain": [
       "(0.0002478044132501504, 6.140702722625132e-08)"
      ]
     },
     "execution_count": 18,
     "metadata": {},
     "output_type": "execute_result"
    }
   ],
   "source": [
    "# Algorithm 3.2 : p.39\n",
    "import numpy as np\n",
    "\n",
    "def fibonacci_search(f,x,n,epsilon=1E-2):\n",
    "    a,b=bracket_minimum(f,x) #구간의 상한 하한 결정하는 bracket_minimum 알고리즘 활용\n",
    "    print('init: (a:%.4f, B:%.4f)' % (a,b))\n",
    "    \n",
    "    psi=0.5*(1.+np.sqrt(5))\n",
    "    s=(1.-np.sqrt(5))/(1.+np.sqrt(5))\n",
    "    \n",
    "    rho=1./psi*((1.-s**(n+1))/(1.-s**n)) #n은 1,1,2,3,5,8에서 몇번째인지 결정    \n",
    "    d=rho*b+(1.-rho)*a\n",
    "    \n",
    "    yd=f(d)\n",
    "    \n",
    "    for i in range(1,n):\n",
    "        if i==n-1:\n",
    "            c=epsilon*a+(1.-epsilon)*d\n",
    "        else:\n",
    "            c=rho*a+(1.-rho)*d\n",
    "        yc=f(c)\n",
    "        \n",
    "        if yc<yd:\n",
    "            b,d,yd =d,c,yc\n",
    "            \n",
    "        else:\n",
    "            a,b=b,c\n",
    "            \n",
    "        rho=1./psi*((1.-s**(n-i+1)))/(1.-s**(n-i))\n",
    "        \n",
    "        pa,pb=(a,b) if a<b else (b,a)\n",
    "        print('%d:(a:%.4f, b:%.4f)' %(i,pa,pb))\n",
    "        \n",
    "    a,b=(a,b) if a<b else (b,a)\n",
    "    \n",
    "    x=0.5*abs(a-b)\n",
    "    y=f(x)\n",
    "    \n",
    "    return x,y\n",
    "\n",
    "\n",
    "\n",
    "fibonacci_search(f,-1,30)\n",
    "# 우리가 30번 하라고 했으니까 29번 반복됨\n"
   ]
  },
  {
   "cell_type": "code",
   "execution_count": 19,
   "metadata": {},
   "outputs": [
    {
     "name": "stdout",
     "output_type": "stream",
     "text": [
      "init: (a:-1.0000, b:-0.9900) (ya:1.0000, yb:0.9801)\n",
      "step: (a: -1.0000, b:-0.9900, c:-0.9800) (ya:1.0000, yb:0.9801, yc:0.9604)\n",
      "step: (a: -0.9900, b:-0.9800, c:-0.9600) (ya:0.9801, yb:0.9604, yc:0.9216)\n",
      "step: (a: -0.9800, b:-0.9600, c:-0.9200) (ya:0.9604, yb:0.9216, yc:0.8464)\n",
      "step: (a: -0.9600, b:-0.9200, c:-0.8400) (ya:0.9216, yb:0.8464, yc:0.7056)\n",
      "step: (a: -0.9200, b:-0.8400, c:-0.6800) (ya:0.8464, yb:0.7056, yc:0.4624)\n",
      "step: (a: -0.8400, b:-0.6800, c:-0.3600) (ya:0.7056, yb:0.4624, yc:0.1296)\n",
      "step: (a: -0.6800, b:-0.3600, c:0.2800) (ya:0.4624, yb:0.1296, yc:0.0784)\n",
      "step: (a: -0.3600, b:0.2800, c:1.5600) (ya:0.1296, yb:0.0784, yc:2.4336)\n",
      "init: (a:-0.3600, B:1.5600)\n",
      "1:(a:-0.3600, b:0.8266)\n",
      "2:(a:-0.1869, b:0.8266)\n",
      "3:(a:-0.1869, b:0.5465)\n",
      "4:(a:-0.1869, b:0.0933)\n",
      "5:(a:-0.1460, b:0.0933)\n",
      "6:(a:-0.0799, b:0.0933)\n",
      "7:(a:-0.0799, b:0.0680)\n",
      "8:(a:-0.0390, b:0.0680)\n",
      "9:(a:-0.0390, b:0.0524)\n",
      "10:(a:-0.0390, b:0.0271)\n",
      "11:(a:-0.0294, b:0.0271)\n",
      "12:(a:-0.0137, b:0.0271)\n",
      "13:(a:-0.0137, b:0.0212)\n",
      "14:(a:-0.0137, b:0.0115)\n",
      "15:(a:-0.0101, b:0.0115)\n",
      "16:(a:-0.0101, b:0.0055)\n",
      "17:(a:-0.0078, b:0.0055)\n",
      "18:(a:-0.0041, b:0.0055)\n",
      "19:(a:-0.0041, b:0.0041)\n",
      "20:(a:-0.0041, b:0.0019)\n",
      "21:(a:-0.0032, b:0.0019)\n",
      "22:(a:-0.0018, b:0.0019)\n",
      "23:(a:-0.0018, b:0.0013)\n",
      "24:(a:-0.0010, b:0.0013)\n",
      "25:(a:-0.0010, b:0.0010)\n",
      "26:(a:-0.0010, b:0.0005)\n",
      "27:(a:-0.0007, b:0.0005)\n",
      "28:(a:-0.0004, b:0.0005)\n",
      "29:(a:-0.0004, b:0.0003)\n",
      "30:(a:-0.0002, b:0.0003)\n",
      "31:(a:-0.0002, b:0.0003)\n",
      "32:(a:-0.0002, b:0.0001)\n",
      "33:(a:-0.0002, b:0.0001)\n",
      "34:(a:-0.0001, b:0.0001)\n",
      "35:(a:-0.0001, b:0.0001)\n",
      "36:(a:-0.0001, b:0.0000)\n",
      "37:(a:-0.0001, b:0.0000)\n",
      "38:(a:-0.0000, b:0.0000)\n",
      "39:(a:-0.0000, b:0.0000)\n",
      "40:(a:-0.0000, b:0.0000)\n",
      "41:(a:-0.0000, b:0.0000)\n",
      "42:(a:-0.0000, b:0.0000)\n",
      "43:(a:-0.0000, b:0.0000)\n",
      "44:(a:-0.0000, b:0.0000)\n",
      "45:(a:-0.0000, b:0.0000)\n",
      "46:(a:-0.0000, b:0.0000)\n",
      "47:(a:-0.0000, b:0.0000)\n",
      "48:(a:-0.0000, b:0.0000)\n",
      "49:(a:-0.0000, b:0.0000)\n"
     ]
    },
    {
     "data": {
      "text/plain": [
       "(2.014803210137695e-06, 4.0594319755811616e-12)"
      ]
     },
     "execution_count": 19,
     "metadata": {},
     "output_type": "execute_result"
    }
   ],
   "source": [
    "fibonacci_search(f,-1,50)\n",
    "# 좀 더 정확한 값\n",
    "\n",
    "# 근데 아까 삼분할법보다 피보나치 사용하는게 반복수가 더 줄어들었으면 좋겠는데 \n",
    "# 이 예에서는 삼분할법의 반복수보다 더 많아져야 계산됨\n",
    "\n",
    "# 복잡하게 해야하나?\n",
    "# 수학적으로 삼분할법 경우에 Unimodality 만족한다해도 최적점 못구하고 사이클 발생될 가능성\n",
    "# 이 문제 없애기 위해 피보나치 사용\n",
    "\n",
    "## 삼분할법보다 피보나치가 더 안정적\n",
    "\n",
    "\n",
    "## but 계산오차 많이 포함될 위험성 존재: 나누기 많이 나와!\n",
    "## 오히려 fn/fn-1 두 비율이 수렴된 값인 황금비를 이용해 구간 구해나가는게 더 적절하지 않을까??\n",
    "### --> 이것이 바로 황금비율 분할법 (golden ratio search method)\n",
    "# 사실 이게 가장 많이 사용되는 구간분할법에서의 알고리즘\n",
    "# 계산량 줄어들고 안정적으로 최적점 찾을 수 있음."
   ]
  },
  {
   "cell_type": "code",
   "execution_count": null,
   "metadata": {},
   "outputs": [],
   "source": []
  },
  {
   "cell_type": "code",
   "execution_count": null,
   "metadata": {},
   "outputs": [],
   "source": []
  },
  {
   "cell_type": "code",
   "execution_count": null,
   "metadata": {},
   "outputs": [],
   "source": []
  },
  {
   "cell_type": "code",
   "execution_count": null,
   "metadata": {},
   "outputs": [],
   "source": []
  },
  {
   "cell_type": "code",
   "execution_count": null,
   "metadata": {},
   "outputs": [],
   "source": []
  },
  {
   "cell_type": "code",
   "execution_count": null,
   "metadata": {},
   "outputs": [],
   "source": []
  },
  {
   "cell_type": "code",
   "execution_count": null,
   "metadata": {},
   "outputs": [],
   "source": []
  },
  {
   "cell_type": "code",
   "execution_count": null,
   "metadata": {},
   "outputs": [],
   "source": []
  },
  {
   "cell_type": "code",
   "execution_count": null,
   "metadata": {},
   "outputs": [],
   "source": []
  },
  {
   "cell_type": "code",
   "execution_count": null,
   "metadata": {},
   "outputs": [],
   "source": []
  },
  {
   "cell_type": "code",
   "execution_count": null,
   "metadata": {},
   "outputs": [],
   "source": []
  },
  {
   "cell_type": "code",
   "execution_count": null,
   "metadata": {},
   "outputs": [],
   "source": []
  },
  {
   "cell_type": "code",
   "execution_count": null,
   "metadata": {},
   "outputs": [],
   "source": []
  },
  {
   "cell_type": "code",
   "execution_count": null,
   "metadata": {},
   "outputs": [],
   "source": []
  }
 ],
 "metadata": {
  "kernelspec": {
   "display_name": "Python 3",
   "language": "python",
   "name": "python3"
  },
  "language_info": {
   "codemirror_mode": {
    "name": "ipython",
    "version": 3
   },
   "file_extension": ".py",
   "mimetype": "text/x-python",
   "name": "python",
   "nbconvert_exporter": "python",
   "pygments_lexer": "ipython3",
   "version": "3.7.4"
  }
 },
 "nbformat": 4,
 "nbformat_minor": 2
}
