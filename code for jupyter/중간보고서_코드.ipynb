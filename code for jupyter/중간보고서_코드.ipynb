{
 "cells": [
  {
   "cell_type": "markdown",
   "metadata": {},
   "source": [
    "\n",
    "\n",
    "$f(x)=x^5-8x^3+10x+6$\n",
    "\n",
    "[-3,3] 구간 내"
   ]
  },
  {
   "cell_type": "code",
   "execution_count": 27,
   "metadata": {},
   "outputs": [],
   "source": [
    "import numpy as np"
   ]
  },
  {
   "cell_type": "code",
   "execution_count": 178,
   "metadata": {},
   "outputs": [],
   "source": [
    "f=lambda x: x**5-8*x**3+10*x+6\n",
    "df=lambda x:5*x**4-24*x**2+10"
   ]
  },
  {
   "cell_type": "code",
   "execution_count": 179,
   "metadata": {},
   "outputs": [
    {
     "data": {
      "text/plain": [
       "9"
      ]
     },
     "execution_count": 179,
     "metadata": {},
     "output_type": "execute_result"
    }
   ],
   "source": [
    "f(1)"
   ]
  },
  {
   "cell_type": "code",
   "execution_count": 243,
   "metadata": {},
   "outputs": [],
   "source": [
    "# 초기 구간 설정을 위한 bracket_minimum algorithm\n",
    "\n",
    "def bracket_minimum(f,x,s=1E-2,k=2.0): \n",
    "    a,ya=x,f(x)\n",
    "    b,yb=a+s,f(a+s)\n",
    "    \n",
    "    #print('init: (a:%.4f, b:%.4f) (ya:%.4f, yb:%.4f)' %(a,b,ya,yb))\n",
    "    \n",
    "    if yb>ya:\n",
    "        a,b=b,a #스와핑\n",
    "        ya,yb=yb,ya\n",
    "        s=-s #b 값 줄여나감\n",
    "    \n",
    "    while True:\n",
    "        c,yc=b+s, f(b+s)\n",
    "        #print('step: (a: %.4f, b:%.4f, c:%.4f) (ya:%.4f, yb:%.4f, yc:%.4f)' %(a,b,c,ya,yb,yc))\n",
    "        \n",
    "        if yc>yb:\n",
    "            if a<-3:\n",
    "                a=-3 #구간의 하한 설정\n",
    "            elif c>3: \n",
    "                c=3 #구간의 상한 설정\n",
    "            return (a,c) if a<c else (c,a)\n",
    "            # while 루프 빠져나옴\n",
    "        else:\n",
    "            a,ya,b,yb=b,yb,c,yc\n",
    "            s*=k #더 넓은 구간으로 이동"
   ]
  },
  {
   "cell_type": "code",
   "execution_count": 244,
   "metadata": {},
   "outputs": [
    {
     "name": "stdout",
     "output_type": "stream",
     "text": [
      "--- x변경 ---\n",
      "x=-1:  (-0.8322278399999999, -0.3289113599999999)\n",
      "x=0:  (-1.34217727, -0.33554431)\n",
      "x=1:  (1.6710886399999998, 3)\n",
      "x=2:  (2.0419430399999996, 2.1677721599999997)\n",
      "--- s변경 ---\n",
      "s=0.01:  (-1.27, -0.31000000000000005)\n",
      "s=0.001:  (-1.0230000000000001, -0.255)\n",
      "--- k변경 ---\n",
      "k=1.5:  (1.7588671875, 2.719951171875)\n",
      "k=2.0:  (1.5119999999999998, 3)\n",
      "k=2.5:  (1.4072343749999998, 3)\n",
      "k=2.0:  (1.3649999999999995, 3)\n"
     ]
    }
   ],
   "source": [
    "print('--- x변경 ---')\n",
    "print('x=-1: ',bracket_minimum(f,-1,s=1E-8,k=2.0))\n",
    "print('x=0: ',bracket_minimum(f,0,s=1E-8,k=2.0))\n",
    "print('x=1: ',bracket_minimum(f,1,s=1E-8,k=2.0))\n",
    "print('x=2: ',bracket_minimum(f,2,s=1E-8,k=2.0))\n",
    "\n",
    "print('--- s변경 ---')\n",
    "print('s=0.01: ',bracket_minimum(f,0,s=1E-2,k=2.0))\n",
    "print('s=0.001: ',bracket_minimum(f,0,s=1E-3,k=2.0))\n",
    "\n",
    "print('--- k변경 ---')\n",
    "print('k=1.5: ',bracket_minimum(f,1,s=1E-2,k=1.5))\n",
    "print('k=2.0: ',bracket_minimum(f,1,s=1E-3,k=2.0))\n",
    "print('k=2.5: ',bracket_minimum(f,1,s=1E-3,k=2.5))\n",
    "print('k=2.0: ',bracket_minimum(f,1,s=1E-3,k=3.0))"
   ]
  },
  {
   "cell_type": "markdown",
   "metadata": {},
   "source": [
    "# 삼분할 탐색법\n"
   ]
  },
  {
   "cell_type": "code",
   "execution_count": 245,
   "metadata": {},
   "outputs": [],
   "source": [
    "def trifold_search(f,x,epsilon=1E-6):\n",
    "    a,b=bracket_minimum(f,x)\n",
    "    #print('init: (a:%.4f, b:%.4f)' %(a,b))\n",
    "    \n",
    "    distance=abs(a-b)\n",
    "    \n",
    "    i=1\n",
    "    while distance>epsilon:\n",
    "        x1=a+(1.0/3.0)*distance\n",
    "        x2=a+(2.0/3.0)*distance\n",
    "        \n",
    "        y1,y2=f(x1),f(x2)\n",
    "        \n",
    "        if y1>y2:\n",
    "            a,b=x1,b\n",
    "            \n",
    "        else:\n",
    "            a,b=a,x2\n",
    "            \n",
    "            \n",
    "        distance=abs(a-b)\n",
    "        \n",
    "        #print('%d: (a:%.4f, b:%.4f)' %(i,a,b))\n",
    "        i+=1\n",
    "    \n",
    "    x=0.5*abs(a+b)\n",
    "    y=f(x)\n",
    "    \n",
    "    return x,y,i"
   ]
  },
  {
   "cell_type": "code",
   "execution_count": 237,
   "metadata": {},
   "outputs": [
    {
     "data": {
      "text/plain": [
       "(2.0830437420086856, -6.258776371634173)"
      ]
     },
     "execution_count": 237,
     "metadata": {},
     "output_type": "execute_result"
    }
   ],
   "source": [
    "trifold_search(f,1)"
   ]
  },
  {
   "cell_type": "code",
   "execution_count": 246,
   "metadata": {},
   "outputs": [
    {
     "name": "stdout",
     "output_type": "stream",
     "text": [
      "--- x변경 ---\n",
      "x= -1\t(0.678916665067644, 10.429952806772517, 34)\n",
      "x= 0\t(0.678916767353898, 10.429952806772814, 35)\n",
      "x= 1\t(2.0830437420086856, -6.258776371634173, 36)\n",
      "x= 2\t(2.083044059532636, -6.2587763716344895, 30)\n",
      "\n",
      "--- epsilon변경 ---\n",
      "epsilon= 0.0001\t(2.083045801313978, -6.258776371491308, 25)\n",
      "epsilon= 1e-06\t(2.0830437420086856, -6.258776371634173, 36)\n",
      "epsilon= 1e-08\t(2.0830439126465743, -6.258776371635349, 48)\n"
     ]
    }
   ],
   "source": [
    "print('--- x변경 ---')\n",
    "for i in [-1,0,1,2]:\n",
    "    print('x=',i,end=\"\\t\")\n",
    "    print(trifold_search(f,i))\n",
    "\n",
    "print()\n",
    "    \n",
    "print('--- epsilon변경 ---')\n",
    "\n",
    "for e in [1E-4,1E-6,1E-8]:\n",
    "    print('epsilon=',e,end='\\t')\n",
    "    print(trifold_search(f,1,epsilon=e))"
   ]
  },
  {
   "cell_type": "markdown",
   "metadata": {},
   "source": [
    "# 피보나치 탐색법"
   ]
  },
  {
   "cell_type": "code",
   "execution_count": 247,
   "metadata": {},
   "outputs": [],
   "source": [
    "def fibonacci_search(f,x,n,epsilon=1E-2):\n",
    "    a,b=bracket_minimum(f,x) #구간의 상한 하한 결정하는 bracket_minimum 알고리즘 활용\n",
    "    #print('init: (a:%.4f, B:%.4f)' % (a,b))\n",
    "    \n",
    "    psi=0.5*(1.+np.sqrt(5))\n",
    "    s=(1.-np.sqrt(5))/(1.+np.sqrt(5))\n",
    "    \n",
    "    rho=1./psi*((1.-s**(n+1))/(1.-s**n)) #n은 1,1,2,3,5,8에서 몇번째인지 결정    \n",
    "    d=rho*b+(1.-rho)*a\n",
    "    \n",
    "    yd=f(d)\n",
    "    \n",
    "    for i in range(1,n):\n",
    "        if i==n-1:\n",
    "            c=epsilon*a+(1.-epsilon)*d\n",
    "        else:\n",
    "            c=rho*a+(1.-rho)*d\n",
    "        yc=f(c)\n",
    "        \n",
    "        if yc<yd:\n",
    "            b,d,yd =d,c,yc\n",
    "            \n",
    "        else:\n",
    "            a,b=b,c\n",
    "            \n",
    "        rho=1./psi*((1.-s**(n-i+1)))/(1.-s**(n-i))\n",
    "        \n",
    "        pa,pb=(a,b) if a<b else (b,a)\n",
    "        #print('%d:(a:%.4f, b:%.4f)' %(i,pa,pb))\n",
    "        \n",
    "    a,b=(a,b) if a<b else (b,a)\n",
    "    \n",
    "    x=0.5*abs(a+b)\n",
    "    y=f(x)\n",
    "\n",
    "    return x,y,i"
   ]
  },
  {
   "cell_type": "code",
   "execution_count": 248,
   "metadata": {},
   "outputs": [
    {
     "name": "stdout",
     "output_type": "stream",
     "text": [
      "--- x값 변경---\n",
      "x= -2\t(0.6789185461920191, 10.429952806733919, 49)\n",
      "x= -1\t(0.6789172605329832, 10.429952806770377, 49)\n",
      "x= 0\t(0.6789170856339406, 10.429952806771974, 49)\n",
      "x= 1\t(2.0830452604511756, -6.258776371562007, 49)\n",
      "x= 2\t(2.083044107369532, -6.258776371633822, 49)\n",
      "\n",
      "--- n 값 변경 ---\n",
      "n= 30\t(2.083169294503794, -6.258775736585431, 29)\n",
      "n= 50\t(2.0830452604511756, -6.258776371562007, 49)\n",
      "n= 100\t(2.0830439193429777, -6.258776371635356, 99)\n",
      "\n",
      "--- epsilon변경 ---\n",
      "epsilon= 0.0001\t(2.0830452604511756, -6.258776371562007, 49)\n",
      "epsilon= 1e-06\t(2.0830452604511756, -6.258776371562007, 49)\n",
      "epsilon= 1e-08\t(2.083039653722424, -6.258776370902638, 49)\n"
     ]
    }
   ],
   "source": [
    "print('--- x값 변경---')\n",
    "for i in [-2,-1,0,1,2]:\n",
    "    print('x=',i,end=\"\\t\")\n",
    "    print(fibonacci_search(f,i,n=50))\n",
    "    \n",
    "print()\n",
    "\n",
    "print('--- n 값 변경 ---')\n",
    "for n in [30,50,100]:\n",
    "    print('n=',n,end='\\t')\n",
    "    print(fibonacci_search(f,1,n=n))\n",
    "    \n",
    "print() \n",
    "print('--- epsilon변경 ---')\n",
    "for e in [1E-4,1E-6,1E-8]:\n",
    "    print('epsilon=',e,end='\\t')\n",
    "    print(fibonacci_search(f,1,n=50,epsilon=e))"
   ]
  },
  {
   "cell_type": "markdown",
   "metadata": {},
   "source": [
    "# 황금 분할 탐색법"
   ]
  },
  {
   "cell_type": "code",
   "execution_count": 227,
   "metadata": {},
   "outputs": [],
   "source": [
    "def golden_section_search(f,x,epsilon=1E-6): \n",
    "    # f는 목적함수, x는 bracket minimum에 의해 feasible set을 찾기 위한 초기값, epsilon은 허용오차\n",
    "    \n",
    "    a,b=bracket_minimum(f,x)\n",
    "    #print('init:(a:%.4f, b:%.4f)' %(a,b))\n",
    "    \n",
    "    distance=abs(a-b)\n",
    "    \n",
    "    psi=0.5*(1.+np.sqrt(5))\n",
    "    rho = psi**(-1) # 구간을 결정해주는 convex combination하기 위해 rho 계산: 황금비율의 역수\n",
    "    \n",
    "    d=rho*b+(1.-rho)*a\n",
    "    yd=f(d)\n",
    "    \n",
    "    i=1\n",
    "    #구간의 길이가 허용오차보다 작아지면 반복 멈춤-> 책에서는 n을 주어졌는데 우리는 epsilon으로 해결1\n",
    "    while distance>epsilon:\n",
    "        \n",
    "        c=rho*a+(1.-rho)*b #같은 방법의 convex combination이용\n",
    "        yc=f(c)\n",
    "        \n",
    "        if yc<yd:\n",
    "            b, d,yd =d, c,yc\n",
    "            \n",
    "        else:\n",
    "            a,b=b,c\n",
    "            \n",
    "        pa,pb=(a,b) if a<b else(b,a)\n",
    "        #print('%d:(a:%.4f, b:%.4f)'%(i,pa,pb))\n",
    "        \n",
    "        distance=abs(a-b)\n",
    "        \n",
    "        i+=1\n",
    "    \n",
    "    a,b=(a,b) if a<b else(b,a)\n",
    "    x=0.5*(a+b)\n",
    "    y=f(x)\n",
    "\n",
    "    \n",
    "    return x,y"
   ]
  },
  {
   "cell_type": "code",
   "execution_count": 228,
   "metadata": {},
   "outputs": [
    {
     "name": "stdout",
     "output_type": "stream",
     "text": [
      "--- x값 변경---\n",
      "x= -2\t(-0.6789167640439839, 1.5700471932271922)\n",
      "x= -1\t(-0.6789168754193231, 1.5700471932271718)\n",
      "x= 0\t(-0.6789168903459053, 1.570047193227194)\n",
      "x= 1\t(2.083043848613427, -6.258776371635193)\n",
      "x= 2\t(2.083044114450747, -6.258776371633719)\n",
      "\n",
      "--- epsilon변경 ---\n",
      "epsilon= 0.0001\t(2.0830567397569197, -6.2587763649896715)\n",
      "epsilon= 1e-06\t(2.083043848613427, -6.258776371635193)\n",
      "epsilon= 1e-08\t(2.0830439204698683, -6.258776371635349)\n"
     ]
    }
   ],
   "source": [
    "print('--- x값 변경---')\n",
    "for i in [-2,-1,0,1,2]:\n",
    "    print('x=',i,end=\"\\t\")\n",
    "    print(golden_section_search(f,i))\n",
    "    \n",
    "print()\n",
    "\n",
    "print('--- epsilon변경 ---')\n",
    "for e in [1E-4,1E-6,1E-8]:\n",
    "    print('epsilon=',e,end='\\t')\n",
    "    print(golden_section_search(f,1,epsilon=e))"
   ]
  },
  {
   "cell_type": "markdown",
   "metadata": {},
   "source": [
    "# 이분법"
   ]
  },
  {
   "cell_type": "code",
   "execution_count": 229,
   "metadata": {},
   "outputs": [],
   "source": [
    "def bracket_sign_change(df,a,b,k=2): \n",
    "    #df는 목적함수(x), 도함수(o) , a와 b는 가까운 값, k는 하이퍼 파라미터(width를 늘려나가는 비율)\n",
    "    # a,b,k값이 초모수, 하이퍼 파라미터\n",
    "    \n",
    "    if a>b:\n",
    "        a,b=b,a\n",
    "        \n",
    "    center,half_width = 0.5*(b+a), 0.5*(b-a)\n",
    "    \n",
    "    while df(a)*df(b)>0:\n",
    "        \n",
    "        half_width*=k\n",
    "        \n",
    "        a=center-half_width\n",
    "        b=center+half_width\n",
    "        \n",
    "    return (a,b)"
   ]
  },
  {
   "cell_type": "code",
   "execution_count": 230,
   "metadata": {},
   "outputs": [
    {
     "name": "stdout",
     "output_type": "stream",
     "text": [
      "--- a,b값 변경---\n",
      "a= -1.5\tb= -1\t(-3.25, 0.75)\n",
      "a= -1\tb= -1.5\t(-3.25, 0.75)\n",
      "a= 0\tb= 0.5\t(-0.25, 0.75)\n",
      "a= 1.5\tb= 2\t(1.25, 2.25)\n",
      "a= 1\tb= 1.7\t(0.6500000000000001, 2.05)\n",
      "\n",
      "--- k값 변경 ---\n",
      "k= 1.5\t(-0.3125, 0.8125)\n",
      "k= 2.0\t(-0.25, 0.75)\n",
      "k= 2.5\t(-0.375, 0.875)\n",
      "k= 3.0\t(-0.5, 1.0)\n"
     ]
    }
   ],
   "source": [
    "print('--- a,b값 변경---')\n",
    "a_lst=[-1.5,-1,0,1.5,1]\n",
    "b_lst=[-1,-1.5,0.5,2,1.7]\n",
    "for a,b in zip(a_lst,b_lst):\n",
    "    print('a=',a,end=\"\\t\")\n",
    "    print('b=',b,end=\"\\t\")\n",
    "    print(bracket_sign_change(df,a,b))\n",
    "    \n",
    "print()\n",
    "\n",
    "print('--- k값 변경 ---')\n",
    "for k in [1.5,2.0,2.5,3.0]:\n",
    "    print('k=',k,end='\\t')\n",
    "    print(bracket_sign_change(df,0,0.5,k=k))"
   ]
  },
  {
   "cell_type": "code",
   "execution_count": 231,
   "metadata": {},
   "outputs": [],
   "source": [
    "def bisection(df,x,epsilon=1E-6): \n",
    "    # 목적함수가 아닌 도함수 들어가야함!, \n",
    "    # 이분법에 의해 찾아진 구간 길이가 epsilon보다 작으면 반복 멈춘다\n",
    "    # x는 bracket_sing_change를 a,b를 결정하기 위해 임의로 지정해줌\n",
    "    \n",
    "    a,b=bracket_sign_change(df,x-epsilon,x+epsilon)\n",
    "    #print('init:(a:%.4f, b:%.4f)'%(a,b)) #feasible set지정\n",
    "    \n",
    "    ya,yb=df(a),df(b)\n",
    "    \n",
    "    if ya==0:\n",
    "        b=a\n",
    "    if yb==0:\n",
    "        a=b\n",
    "        \n",
    "    i=1\n",
    "    while b-a > epsilon: #b-a는 구간의 길이: b가 항상 a보다 크니까\n",
    "        x=0.5*(a+b)\n",
    "        y=df(x)\n",
    "        \n",
    "        if y==0:\n",
    "            a,b=x,x\n",
    "        elif y*ya>0: #두 도함수의 부호가 같다 -> a점을 x로 이동\n",
    "            a=x\n",
    "        else: #그렇지 않으면 b를 x로 이동\n",
    "            b=x\n",
    "            \n",
    "        #print('step %d -a:%.4f, b:%.4f, y:%.4f, ya:%.4f' %(i,a,b,y,ya))\n",
    "        \n",
    "        i+=1\n",
    "        \n",
    "        x=0.5*(a+b)\n",
    "        y=df(x)\n",
    "\n",
    "        \n",
    "    return x,y"
   ]
  },
  {
   "cell_type": "code",
   "execution_count": 232,
   "metadata": {},
   "outputs": [
    {
     "name": "stdout",
     "output_type": "stream",
     "text": [
      "--- x값 변경 ---\n",
      "x= -2\t(-2.083043500002388, -3.3353270112002065e-05)\n",
      "x= -1\t(-0.6789165000085907, 8.591050569606296e-06)\n",
      "x= 1\t(0.6789165000085907, 8.591050569606296e-06)\n",
      "x= 2\t(2.083043500002388, -3.3353270112002065e-05)\n",
      "\n",
      "--- epsilon값 변경 ---\n",
      "epsilon= 0.01\t(0.6775000000000002, 0.03728368769530732)\n",
      "epsilon= 0.0001\t(0.6789499999999803, -0.0008734538571033568)\n",
      "epsilon= 1e-06\t(0.6789167500001789, 2.008930223951211e-06)\n",
      "epsilon= 1e-08\t(0.67891682540242, 2.3636673063265334e-08)\n"
     ]
    }
   ],
   "source": [
    "print('--- x값 변경 ---')\n",
    "for x in [-2,-1,1,2]:\n",
    "    print('x=',x,end='\\t')\n",
    "    print(bisection(df,x))\n",
    "    \n",
    "print()\n",
    "\n",
    "print('--- epsilon값 변경 ---')\n",
    "for e in [1E-2,1E-4,1E-6,1E-8]:\n",
    "    print('epsilon=',e,end='\\t')\n",
    "    print(bisection(df,x=0.5,epsilon=e))"
   ]
  },
  {
   "cell_type": "code",
   "execution_count": null,
   "metadata": {},
   "outputs": [],
   "source": []
  },
  {
   "cell_type": "code",
   "execution_count": null,
   "metadata": {},
   "outputs": [],
   "source": []
  },
  {
   "cell_type": "code",
   "execution_count": null,
   "metadata": {},
   "outputs": [],
   "source": []
  },
  {
   "cell_type": "code",
   "execution_count": null,
   "metadata": {},
   "outputs": [],
   "source": []
  }
 ],
 "metadata": {
  "kernelspec": {
   "display_name": "Python 3",
   "language": "python",
   "name": "python3"
  },
  "language_info": {
   "codemirror_mode": {
    "name": "ipython",
    "version": 3
   },
   "file_extension": ".py",
   "mimetype": "text/x-python",
   "name": "python",
   "nbconvert_exporter": "python",
   "pygments_lexer": "ipython3",
   "version": "3.7.4"
  }
 },
 "nbformat": 4,
 "nbformat_minor": 2
}
